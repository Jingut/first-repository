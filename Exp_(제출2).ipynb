{
  "nbformat": 4,
  "nbformat_minor": 0,
  "metadata": {
    "colab": {
      "name": "Exp_(제출2).ipynb",
      "provenance": [],
      "collapsed_sections": [],
      "mount_file_id": "1LjV5LMlCnHUzfkRfI9n07mn-f2-sTuwv",
      "authorship_tag": "ABX9TyMgMsq4Ry8cMZCIY90lGiJS",
      "include_colab_link": true
    },
    "kernelspec": {
      "name": "python3",
      "display_name": "Python 3"
    },
    "language_info": {
      "name": "python"
    },
    "accelerator": "GPU",
    "gpuClass": "standard"
  },
  "cells": [
    {
      "cell_type": "markdown",
      "metadata": {
        "id": "view-in-github",
        "colab_type": "text"
      },
      "source": [
        "<a href=\"https://colab.research.google.com/github/Jingut/first-repository/blob/main/Exp_(%EC%A0%9C%EC%B6%9C2).ipynb\" target=\"_parent\"><img src=\"https://colab.research.google.com/assets/colab-badge.svg\" alt=\"Open In Colab\"/></a>"
      ]
    },
    {
      "cell_type": "markdown",
      "source": [
        "# 프로젝트 1"
      ],
      "metadata": {
        "id": "l461z7Hw6Kf5"
      }
    },
    {
      "cell_type": "code",
      "execution_count": 6,
      "metadata": {
        "colab": {
          "base_uri": "https://localhost:8080/",
          "height": 534
        },
        "id": "P_UgolAO_dqx",
        "outputId": "d1a24c74-b21e-444b-dcbd-fa15f595734d"
      },
      "outputs": [
        {
          "output_type": "stream",
          "name": "stdout",
          "text": [
            "dW: [ -60.54117851  -13.64857163 -189.59308638 -142.54211373  -68.24335891\n",
            "  -55.9738059   127.61649395 -138.96340956 -182.82263887 -123.46443371]\n",
            "db: -303.4424700408118\n",
            "Iteration 10000 : Loss 4568.0544\n",
            "Iteration 20000 : Loss 3593.6166\n",
            "Iteration 30000 : Loss 3337.5444\n",
            "Iteration 40000 : Loss 3199.2258\n",
            "Iteration 50000 : Loss 3110.0654\n",
            "Iteration 60000 : Loss 3047.9029\n",
            "Iteration 70000 : Loss 3002.9833\n",
            "Iteration 80000 : Loss 2969.9756\n",
            "Iteration 90000 : Loss 2945.5032\n",
            "Iteration 100000 : Loss 2927.2526\n",
            "3066.627921561602\n"
          ]
        },
        {
          "output_type": "execute_result",
          "data": {
            "text/plain": [
              "<function matplotlib.pyplot.show>"
            ]
          },
          "metadata": {},
          "execution_count": 6
        },
        {
          "output_type": "display_data",
          "data": {
            "text/plain": [
              "<Figure size 432x288 with 1 Axes>"
            ],
            "image/png": "[encoded data removed]"
          },
          "metadata": {
            "needs_background": "light"
          }
        }
      ],
      "source": [
        "# (1) 데이터 가져오기\n",
        "from sklearn.datasets import load_diabetes\n",
        "import numpy as np\n",
        "import pandas as pd\n",
        "from sklearn.model_selection import train_test_split\n",
        "import matplotlib.pyplot as plt\n",
        "\n",
        "diabetes = load_diabetes()\n",
        "\n",
        "# (2) 모델에 입력할 데이터 X,y 준비하기\n",
        "df_x = diabetes.data\n",
        "df_y = diabetes.target\n",
        "\n",
        "diabetes = pd.DataFrame(data=df_x, columns = diabetes.feature_names)\n",
        "X = np.array(df_x)\n",
        "y = np.array(df_y)\n",
        "\n",
        "# (4) train 데이터와 test 데이터로 분리하기\n",
        "X_train, X_test, y_train, y_test = train_test_split(X, y, test_size = 0.2, random_state = 10)\n",
        "\n",
        "# (5) 모델 준비하기\n",
        "\n",
        "W = np.random.rand(10)\n",
        "b = np.random.rand() \n",
        "\n",
        "def model(X, W, b):\n",
        "  predictions = 0\n",
        "  for i in range(10):\n",
        "    predictions += X[:, i] * W[i]\n",
        "  predictions += b\n",
        "  return predictions\n",
        "\n",
        "# (6) 손실함수 loss 정의하기\n",
        "def MSE(a, b):\n",
        "  mse = ((a - b) ** 2).mean()  # 두 값의 차이의 제곱의 평균\n",
        "  return mse\n",
        "\n",
        "def loss(X, W, b, y):\n",
        "  predictions = model(X, W, b)\n",
        "  L = MSE(predictions, y)\n",
        "  return L    \n",
        "\n",
        "def gradient(X, W, b, y):\n",
        "  # N은 가중치의 개수\n",
        "  N = len(W)\n",
        "    \n",
        "  # y_pred 준비\n",
        "  y_pred = model(X, W, b)\n",
        "    \n",
        "  # 공식에 맞게 gradient 계산\n",
        "  dW = 1/N * 2 * X.T.dot(y_pred - y)\n",
        "        \n",
        "  # b의 gradient 계산\n",
        "  db = 2 * (y_pred - y).mean()\n",
        "  return dW, db\n",
        "\n",
        "dW, db = gradient(X, W, b, y)\n",
        "print(\"dW:\", dW)\n",
        "print(\"db:\", db)    \n",
        "\n",
        "# (8) 하이퍼 파라미터인 학습률 설정하기\n",
        "LEARNING_RATE = 0.0001\n",
        "\n",
        "# (9) 모델 학습하기\n",
        "losses = []\n",
        "\n",
        "for i in range(1, 100001):\n",
        "  dW, db = gradient(X_train, W, b, y_train)\n",
        "  W -= LEARNING_RATE * dW\n",
        "  b -= LEARNING_RATE * db\n",
        "  L = loss(X_train, W, b, y_train)\n",
        "  losses.append(L)\n",
        "  if i % 10000 == 0:\n",
        "    print('Iteration %d : Loss %0.4f' % (i, L))\n",
        "\n",
        "\n",
        "# (10) test 데이터에 대한 성능 확인하기\n",
        "predictions = model(X_test, W, b)\n",
        "mse = loss(X_test, W, b, y_test)\n",
        "print(mse)\n",
        "\n",
        "plt.plot(losses)\n",
        "plt.show()"
      ]
    },
    {
      "cell_type": "code",
      "source": [
        "# (11) 정답 데이터와 예측한 데이터 시각화하기\n",
        "plt.scatter(X_test[:, 0], y_test)\n",
        "plt.scatter(X_test[:, 0], predictions)\n",
        "plt.show()"
      ],
      "metadata": {
        "colab": {
          "base_uri": "https://localhost:8080/",
          "height": 265
        },
        "id": "QR1FWA-2xqyL",
        "outputId": "c661698f-b24f-439b-b1c0-c94eec96a677"
      },
      "execution_count": 4,
      "outputs": [
        {
          "output_type": "display_data",
          "data": {
            "text/plain": [
              "<Figure size 432x288 with 1 Axes>"
            ],
            "image/png": "[encoded data removed]"
          },
          "metadata": {
            "needs_background": "light"
          }
        }
      ]
    },
    {
      "cell_type": "markdown",
      "source": [
        "# 회고"
      ],
      "metadata": {
        "id": "QuwJ8Ul-ANtL"
      }
    },
    {
      "cell_type": "markdown",
      "source": [
        "# 프로젝트2"
      ],
      "metadata": {
        "id": "Mkf4MhNc6C_u"
      }
    },
    {
      "cell_type": "code",
      "source": [
        ""
      ],
      "metadata": {
        "id": "m7T9UtdJVSEm"
      },
      "execution_count": null,
      "outputs": []
    }
  ]
}